{
  "nbformat": 4,
  "nbformat_minor": 0,
  "metadata": {
    "kernelspec": {
      "display_name": "Python 3",
      "language": "python",
      "name": "python3"
    },
    "language_info": {
      "codemirror_mode": {
        "name": "ipython",
        "version": 3
      },
      "file_extension": ".py",
      "mimetype": "text/x-python",
      "name": "python",
      "nbconvert_exporter": "python",
      "pygments_lexer": "ipython3",
      "version": "3.7.4"
    },
    "colab": {
      "name": "taller7 (1).ipynb",
      "provenance": [],
      "collapsed_sections": []
    }
  },
  "cells": [
    {
      "cell_type": "markdown",
      "metadata": {
        "id": "RbCK6EPziZhx"
      },
      "source": [
        "<img src='https://encrypted-tbn0.gstatic.com/images?q=tbn%3AANd9GcQ-VfNtOyJbsaxu43Kztf_cv1mgBG6ZIQZEVw&usqp=CAU'>\n",
        "\n",
        "# Procesamiento de Lenguaje Natural\n",
        "\n",
        "## Taller #7: Clasificación de textos - Ricardo Mondragon\n",
        "`Fecha de entrega: Abril 22, 2021. (Antes del inicio de la próxima clase).`\n",
        "\n",
        "`Modo de entrega: Subir link de GitHub al aula virtual.`"
      ]
    },
    {
      "cell_type": "code",
      "metadata": {
        "id": "TEiGY_NiiZh1"
      },
      "source": [
        "import re\n",
        "import json\n",
        "import pandas as pd\n",
        "\n",
        "from nltk.corpus import stopwords\n",
        "from sklearn.model_selection import train_test_split\n",
        "from sklearn.feature_extraction.text import TfidfVectorizer\n",
        "\n",
        "from sklearn.linear_model import LogisticRegression\n",
        "\n",
        "from sklearn.metrics import accuracy_score, f1_score\n",
        "from sklearn.metrics import precision_score, recall_score\n",
        "from sklearn.metrics import confusion_matrix, classification_report\n",
        "\n",
        "import matplotlib.pyplot as plt\n",
        "from sklearn.metrics import plot_confusion_matrix\n",
        "\n",
        "import matplotlib.pyplot as plt\n",
        "import plotly.graph_objs as go\n",
        "from plotly.offline import iplot"
      ],
      "execution_count": 1,
      "outputs": []
    },
    {
      "cell_type": "code",
      "metadata": {
        "id": "6bUF5scJip8b"
      },
      "source": [
        "cd ..\n",
        "\n",
        "/escritorio/rmondragon/Documentos/Especializacion/NLP\n",
        "\n",
        "cd Archivos\\ reviews_vidjew_es\n",
        "\n",
        "/escritorio/rmondragon/Documentos/Especializacion/NLP/reviews_vidjew_es"
      ],
      "execution_count": null,
      "outputs": []
    },
    {
      "cell_type": "code",
      "metadata": {
        "id": "acfZtwYSiZh4",
        "outputId": "71af62e1-5200-4061-88f3-9f184f03fd0a"
      },
      "source": [
        "# Cargar datos\n",
        "path = \n",
        "data = pd.read_csv(path)\n",
        "data.head()"
      ],
      "execution_count": null,
      "outputs": [
        {
          "output_type": "execute_result",
          "data": {
            "text/html": [
              "<div>\n",
              "<style scoped>\n",
              "    .dataframe tbody tr th:only-of-type {\n",
              "        vertical-align: middle;\n",
              "    }\n",
              "\n",
              "    .dataframe tbody tr th {\n",
              "        vertical-align: top;\n",
              "    }\n",
              "\n",
              "    .dataframe thead th {\n",
              "        text-align: right;\n",
              "    }\n",
              "</style>\n",
              "<table border=\"1\" class=\"dataframe\">\n",
              "  <thead>\n",
              "    <tr style=\"text-align: right;\">\n",
              "      <th></th>\n",
              "      <th>review_id</th>\n",
              "      <th>product_id</th>\n",
              "      <th>reviewer_id</th>\n",
              "      <th>stars</th>\n",
              "      <th>review_body</th>\n",
              "      <th>review_title</th>\n",
              "      <th>language</th>\n",
              "      <th>product_category</th>\n",
              "    </tr>\n",
              "  </thead>\n",
              "  <tbody>\n",
              "    <tr>\n",
              "      <th>0</th>\n",
              "      <td>es_0825565</td>\n",
              "      <td>product_es_0370490</td>\n",
              "      <td>reviewer_es_0174781</td>\n",
              "      <td>3</td>\n",
              "      <td>Buen. Buena calidad, y buena presentación.</td>\n",
              "      <td>Contenta</td>\n",
              "      <td>es</td>\n",
              "      <td>jewelry</td>\n",
              "    </tr>\n",
              "    <tr>\n",
              "      <th>1</th>\n",
              "      <td>es_0227934</td>\n",
              "      <td>product_es_0354224</td>\n",
              "      <td>reviewer_es_0411613</td>\n",
              "      <td>3</td>\n",
              "      <td>Un producto a perfecto, para salir de casa con...</td>\n",
              "      <td>Versatilidad</td>\n",
              "      <td>es</td>\n",
              "      <td>video_games</td>\n",
              "    </tr>\n",
              "    <tr>\n",
              "      <th>2</th>\n",
              "      <td>es_0468601</td>\n",
              "      <td>product_es_0665460</td>\n",
              "      <td>reviewer_es_0348315</td>\n",
              "      <td>1</td>\n",
              "      <td>No funciona con Nintendo Switch. No hay forma ...</td>\n",
              "      <td>Decepción absoluta</td>\n",
              "      <td>es</td>\n",
              "      <td>video_games</td>\n",
              "    </tr>\n",
              "    <tr>\n",
              "      <th>3</th>\n",
              "      <td>es_0814494</td>\n",
              "      <td>product_es_0692692</td>\n",
              "      <td>reviewer_es_0951508</td>\n",
              "      <td>5</td>\n",
              "      <td>Recomendado, los utilizo para pc y no me dan n...</td>\n",
              "      <td>Auriculares Pecham ps4</td>\n",
              "      <td>es</td>\n",
              "      <td>video_games</td>\n",
              "    </tr>\n",
              "    <tr>\n",
              "      <th>4</th>\n",
              "      <td>es_0206329</td>\n",
              "      <td>product_es_0728826</td>\n",
              "      <td>reviewer_es_0493255</td>\n",
              "      <td>4</td>\n",
              "      <td>El cable funciona bien podria ser un poco mas ...</td>\n",
              "      <td>Perfecto</td>\n",
              "      <td>es</td>\n",
              "      <td>video_games</td>\n",
              "    </tr>\n",
              "  </tbody>\n",
              "</table>\n",
              "</div>"
            ],
            "text/plain": [
              "    review_id          product_id          reviewer_id  stars  \\\n",
              "0  es_0825565  product_es_0370490  reviewer_es_0174781      3   \n",
              "1  es_0227934  product_es_0354224  reviewer_es_0411613      3   \n",
              "2  es_0468601  product_es_0665460  reviewer_es_0348315      1   \n",
              "3  es_0814494  product_es_0692692  reviewer_es_0951508      5   \n",
              "4  es_0206329  product_es_0728826  reviewer_es_0493255      4   \n",
              "\n",
              "                                         review_body            review_title  \\\n",
              "0         Buen. Buena calidad, y buena presentación.                Contenta   \n",
              "1  Un producto a perfecto, para salir de casa con...            Versatilidad   \n",
              "2  No funciona con Nintendo Switch. No hay forma ...      Decepción absoluta   \n",
              "3  Recomendado, los utilizo para pc y no me dan n...  Auriculares Pecham ps4   \n",
              "4  El cable funciona bien podria ser un poco mas ...                Perfecto   \n",
              "\n",
              "  language product_category  \n",
              "0       es          jewelry  \n",
              "1       es      video_games  \n",
              "2       es      video_games  \n",
              "3       es      video_games  \n",
              "4       es      video_games  "
            ]
          },
          "metadata": {
            "tags": []
          },
          "execution_count": 11
        }
      ]
    },
    {
      "cell_type": "markdown",
      "metadata": {
        "id": "Whk6JHo4iZh4"
      },
      "source": [
        "### `[8 pts]` Punto 1: Dividir el conjunto de datos en entrenamiento y prueba"
      ]
    },
    {
      "cell_type": "code",
      "metadata": {
        "id": "_wqDao9tiZh5"
      },
      "source": [
        "#Entrenamiento del modelo\n",
        "train, test = train_test_split(data, test_size=0.2, random_state=20)"
      ],
      "execution_count": null,
      "outputs": []
    },
    {
      "cell_type": "code",
      "metadata": {
        "id": "BNxtRkgFiZh5"
      },
      "source": [
        ""
      ],
      "execution_count": null,
      "outputs": []
    },
    {
      "cell_type": "markdown",
      "metadata": {
        "id": "BG7KuyAciZh5"
      },
      "source": [
        "###  `[8 pts]` Punto 2: Hacer pre-procesamiento del texto"
      ]
    },
    {
      "cell_type": "code",
      "metadata": {
        "id": "WKd_vTP7iZh5"
      },
      "source": [
        "#procesamiento \n",
        "\n",
        "def pre_procesado(text):\n",
        "    text = text.lower()\n",
        "    text = re.sub(r\"[\\W\\d_]+\",\" \", text)\n",
        "    text = text.split()\n",
        "    text = [palabra for palabra in text if palabra not in stopwords_sp]\n",
        "    text = \" \".join(text)\n",
        "    return text\n",
        "\n",
        "    \n"
      ],
      "execution_count": null,
      "outputs": []
    },
    {
      "cell_type": "code",
      "metadata": {
        "id": "8w74sAbYiZh6"
      },
      "source": [
        "x_train = vectorizer.fit_transform(train.review_body.values)\n",
        "y_train = train.product_category.values\n",
        "\n",
        "x_test = vectorizer.transform(test.review_body.values)\n",
        "y_test = test.product_category.values"
      ],
      "execution_count": null,
      "outputs": []
    },
    {
      "cell_type": "markdown",
      "metadata": {
        "id": "z7R81BhhiZh6"
      },
      "source": [
        "###  `[10 pts]` Punto 3: Entrenar el modelo\n",
        "Puedes escoger el que quieras: Regresión Logística, Naive-Bayes, SVM, Árbol de Decisión, u otro."
      ]
    },
    {
      "cell_type": "code",
      "metadata": {
        "id": "lBa0BUYviZh6"
      },
      "source": [
        "#Entrenamiento a través de Suppot vector machine\n",
        "svm = LinearSVC(class_weight='balanced')\n",
        "svm.fit(x_train, y_train);"
      ],
      "execution_count": null,
      "outputs": []
    },
    {
      "cell_type": "markdown",
      "metadata": {
        "id": "fuNn47loiZh6"
      },
      "source": [
        "###  `[10 pts]` Punto 4: Métricas de evaluación\n",
        "Exactitud, precisión y sensibilidad"
      ]
    },
    {
      "cell_type": "code",
      "metadata": {
        "id": "WF3DomwgiZh6",
        "outputId": "0a444ff7-1968-4849-bca8-c02dbf23380c"
      },
      "source": [
        "#metricas del modelo Support vectore machine\n",
        "y_pred_svm = svm.predict(x_test)"
      ],
      "execution_count": null,
      "outputs": [
        {
          "output_type": "stream",
          "text": [
            "Exactitud: 0.86\n",
            "precision_score: 0.86\n",
            "recall_score: 0.86\n",
            "f1_score: 0.86\n"
          ],
          "name": "stdout"
        }
      ]
    },
    {
      "cell_type": "markdown",
      "metadata": {
        "id": "F554UuM3iZh7"
      },
      "source": [
        "###  `[BONUS: 3 pts]` Matriz de confusión"
      ]
    },
    {
      "cell_type": "code",
      "metadata": {
        "id": "EQzRtJgjiZh7"
      },
      "source": [
        ""
      ],
      "execution_count": null,
      "outputs": []
    },
    {
      "cell_type": "markdown",
      "metadata": {
        "id": "RdI28asYiZh7"
      },
      "source": [
        "###  `[12 pts]` Punto 5: Términos más importantes de cada categoría"
      ]
    },
    {
      "cell_type": "code",
      "metadata": {
        "id": "IHfMpDLjiZh7"
      },
      "source": [
        "#conteo \n",
        "terminos = {value:key for key,value in vectorizer.vocabulary_.items()}\n",
        "print terminos"
      ],
      "execution_count": null,
      "outputs": []
    },
    {
      "cell_type": "markdown",
      "metadata": {
        "id": "VpwHUGrviZh8"
      },
      "source": [
        "### `[2 pts]` Punto 6: Pregunta\n",
        "\n",
        "- ¿Qué interpretación y/o conclusiones saca de su modelo?"
      ]
    },
    {
      "cell_type": "code",
      "metadata": {
        "id": "A4mV5s14iZh8"
      },
      "source": [
        ""
      ],
      "execution_count": null,
      "outputs": []
    }
  ]
}